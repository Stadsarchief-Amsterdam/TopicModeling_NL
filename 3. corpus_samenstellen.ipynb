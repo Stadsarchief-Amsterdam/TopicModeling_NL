{
 "cells": [
  {
   "cell_type": "markdown",
   "metadata": {},
   "source": [
    "### 3. Corpus samenstellen"
   ]
  },
  {
   "cell_type": "markdown",
   "metadata": {},
   "source": [
    "Om in Gensim met Topic Modeling aan de slag te kunnen, moeten de docx-bestanden en/of pdf-bestanden worden samengevoegd in een json-bestand. Dit json-bestand vormt het corpus voor het Topic Model. Met behulp van dit script kunnen de bestandsnamen van de docx- en/of pdf-bestanden en de inhoud van txt-versies worden samengevoegd in een json-bestand. Voor dit script hoeft niets geïnstalleerd te worden. \n",
    "\n",
    "Het json-bestand moet uiteindelijk bestaan uit: \n",
    "\n",
    "1. lijst met alle bestandsnamen (.pdf en .docx)\n",
    "2. lijst met alle de inhoud van alle txt-bestanden (.txt) "
   ]
  },
  {
   "cell_type": "markdown",
   "metadata": {},
   "source": [
    "#### Stap 1: Twee lijsten maken voor de pdf-bestanden\n",
    "\n",
    "In het onderstaande celblokje maken we twee aparte lijsten, een met de namen van de pdf-bestanden en een met de inhoud van de txt-bestanden Let op: dit script verwacht dat de pdf-bestanden en de .txt versies in dezelfde map staan.\n",
    "\n",
    "os.listdir is gevoelig voor hoofdletters. Daarom wordt zowel op .pdf als .PDF gezocht. Mochten er een andere spellingsvariant van .pdf tussen je bestanden zitten, voeg dan de volgende twee lijnen toe aan het celblokje met de andere spellingsvariant:\n",
    "```python\n",
    "elif pdf.endswith('[.PdF]'): #voeg tussen de vierkante haakjes de variant toe en haal de [] weg\n",
    "    index.append(pdf)\n",
    "```"
   ]
  },
  {
   "cell_type": "code",
   "execution_count": null,
   "metadata": {},
   "outputs": [],
   "source": [
    "import glob\n",
    "import os \n",
    "\n",
    "path_pdf = '' + '/' #VUL IN: plaats tussen de eerste aanhalingstekens het pad naar de map met de pdf-bestanden\n",
    "                                            \n",
    "os.chdir(path_pdf) \n",
    "\n",
    "pdfs = [] #lijst met de pdf bestandsnamen \n",
    "   \n",
    "for pdf in os.listdir(path_pdf): #hier voegen we elke bestandsnaam toe aan de lijst pdfs\n",
    "    if pdf.endswith('.pdf'):\n",
    "        pdfs.append(pdf)\n",
    "    #elif pdf.endswith('.PDF'):\n",
    "        #pdfs.append(pdf)\n",
    "\n",
    "pdf_texts = [] #lijst met alle teksten\n",
    "\n",
    "for text in os.listdir(path_pdf): #hier voegen we de inhoud van elk txt-bestand toe aan de lijst pdf_txts\n",
    "    if text.endswith('.txt'):\n",
    "        with open(f\"{text.title()}\", 'r') as f:\n",
    "            pdf_contents = f.read()\n",
    "            pdf_texts.append(pdf_contents) "
   ]
  },
  {
   "cell_type": "markdown",
   "metadata": {},
   "source": [
    "#### Stap 2: Twee lijsten maken voor de docx-bestanden\n",
    "\n",
    "In het onderstaande celblokje maken we twee aparte lijsten, een lijst met de namen van de docx-bestanden en een lijst met de inhoud van de txt-bestanden Let op: dit script verwacht dat de docx-bestanden en de .txt versies in dezelfde map staan. "
   ]
  },
  {
   "cell_type": "code",
   "execution_count": null,
   "metadata": {},
   "outputs": [],
   "source": [
    "import os\n",
    "import docx2txt\n",
    "\n",
    "path_docx = '' + '/' #VUL IN: plaats tussen de eerste aanhalingstekens het pad naar de map met de docx-bestanden\n",
    "                                            \n",
    "os.chdir(path_docx) \n",
    "\n",
    "docxs = [] #lijst met de docx bestandsnamen \n",
    "\n",
    "for docx in os.listdir(path_docx): #hier voegen we elke bestandsnaam toe aan de lijst docxs\n",
    "    if docx.endswith('.docx'):\n",
    "        docxs.append(docx)\n",
    "\n",
    "docx_texts = [] #lijst met alle teksten\n",
    "        \n",
    "for text in os.listdir(path_docx): #hier voegen we de inhoud van elk txt-bestand toe aan de lijst docx_txts\n",
    "    if text.endswith('.txt'):\n",
    "        with open(f\"{text.title()}\", 'r') as f:\n",
    "            docx_contents = f.read()\n",
    "            docx_texts.append(docx_contents)"
   ]
  },
  {
   "cell_type": "markdown",
   "metadata": {},
   "source": [
    "#### Stap 3: pdf en docx lijsten samenvoegen\n",
    "\n",
    "In de onderstaande celblokjes worden de twee lijsten met de bestandsnamen (.pdf en .docx) samengevoegd en worden de twee lijsten met de inhoud van de txt-bestanden samengevoegd.\n"
   ]
  },
  {
   "cell_type": "code",
   "execution_count": null,
   "metadata": {},
   "outputs": [],
   "source": [
    "doc_id = [] #nieuwe lijst met alle bestandsnamen (.pdf en .docxs)\n",
    "doc_id.extend(pdfs)\n",
    "doc_id.extend(docxs)"
   ]
  },
  {
   "cell_type": "code",
   "execution_count": null,
   "metadata": {},
   "outputs": [],
   "source": [
    "texts = [] #nieuwe lijst met alle teksten\n",
    "texts.extend(pdf_texts)\n",
    "texts.extend(docx_texts)"
   ]
  },
  {
   "cell_type": "markdown",
   "metadata": {},
   "source": [
    "Controleer of de twee lijsten even lang zijn: "
   ]
  },
  {
   "cell_type": "code",
   "execution_count": null,
   "metadata": {},
   "outputs": [],
   "source": [
    "print(len(doc_id)) #lengte van lijst met bestandsnamen\n",
    "print(len(texts)) #lengte van lijst met teksten "
   ]
  },
  {
   "cell_type": "markdown",
   "metadata": {},
   "source": [
    "#### Stap 4: lijsten samenvoegen in een json\n",
    "\n",
    "Ten slotte worden in het onderstaande celblokje de twee lijsten 'doc_id' en 'texts' samengevoegd en omgezet in een json-bestand. Nu is het corpus in de juiste vorm gegoten om verder te gaan met het vijfde script Topic Modeling met Gensim."
   ]
  },
  {
   "cell_type": "code",
   "execution_count": null,
   "metadata": {},
   "outputs": [],
   "source": [
    "import json\n",
    "\n",
    "path = '' + '/' #VUL IN: plaats tussen de eerste aanhalingstekens het pad naar de map waar je het json-bestand wilt bewaren\n",
    "filename = '' + '.json' #VUL IN: plaats tussen de eerste aanhalingstekens de bestandsnaam die je aan het json-bestand wilt geven\n",
    "\n",
    "lists = ['doc_id', 'texts']\n",
    "\n",
    "data = {listname: globals()[listname] for listname in lists}\n",
    "with open(path + filename, 'w') as outfile: \n",
    "    json.dump(data, outfile, indent=4)                            \n"
   ]
  },
  {
   "cell_type": "markdown",
   "metadata": {},
   "source": [
    "#### Bonus: Twee jsons samenvoegen\n",
    "\n",
    "Met de onderstaande code blokjes kunnen twee jsons (i.e. twee corpora) worden samengevoegd. "
   ]
  },
  {
   "cell_type": "code",
   "execution_count": null,
   "metadata": {},
   "outputs": [],
   "source": [
    "#hier definiëren we een stukje code waarmee de afzonderlijke lijsten uit de json-bestanden gehaald kunnen worden. \n",
    "def load_data(file):\n",
    "    with open (file, \"r\", encoding=\"utf-8\") as f:\n",
    "        data = json.load(f)\n",
    "    return (data)"
   ]
  },
  {
   "cell_type": "code",
   "execution_count": null,
   "metadata": {},
   "outputs": [],
   "source": [
    "#laad de bestandsnamen en teksten uit json1\n",
    "doc_id1 = load_data(\"json1.json\")[\"doc_id\"] \n",
    "text1 = load_data(\"json1.json\")[\"texts\"]\n"
   ]
  },
  {
   "cell_type": "code",
   "execution_count": null,
   "metadata": {},
   "outputs": [],
   "source": [
    "#laad de bestandsnamen en teksten uit json2\n",
    "doc_id2 = load_data(\"json2.json\")[\"doc_id\"]\n",
    "texts2 = load_data(\"json2.json\")[\"texts\"]"
   ]
  },
  {
   "cell_type": "code",
   "execution_count": null,
   "metadata": {},
   "outputs": [],
   "source": [
    "#voeg de twee lijsten met bestandsnamen samen\n",
    "document_id = []\n",
    "document_id.extend(doc_id1)\n",
    "document_id.extend(doc_id2)"
   ]
  },
  {
   "cell_type": "code",
   "execution_count": null,
   "metadata": {},
   "outputs": [],
   "source": [
    "#voeg de twee lijsten met de tekst samen \n",
    "texts = []\n",
    "texts.extend(texts1)\n",
    "texts.extend(texts2)"
   ]
  },
  {
   "cell_type": "code",
   "execution_count": null,
   "metadata": {},
   "outputs": [],
   "source": [
    "#maak een nieuw json-bestand\n",
    "path = '' + '/' #VUL IN: plaats tussen de eerste aanhalingstekens het pad naar de map waar je het json-bestand wilt bewaren\n",
    "filename2 = '' + '.json' #VUL IN: plaats tussen de eerste aanhalingstekens de bestandsnaam die je aan het json-bestand wilt geven\n",
    "\n",
    "lists = ['document_id', 'texts'] \n",
    "\n",
    "data = {listname: globals()[listname] for listname in lists}\n",
    "with open(path + filename2, 'w') as outfile: \n",
    "    json.dump(data, outfile, indent=4)                            \n"
   ]
  }
 ],
 "metadata": {
  "kernelspec": {
   "display_name": "Python 3",
   "language": "python",
   "name": "python3"
  },
  "language_info": {
   "codemirror_mode": {
    "name": "ipython",
    "version": 3
   },
   "file_extension": ".py",
   "mimetype": "text/x-python",
   "name": "python",
   "nbconvert_exporter": "python",
   "pygments_lexer": "ipython3",
   "version": "3.9.1"
  }
 },
 "nbformat": 4,
 "nbformat_minor": 5
}
