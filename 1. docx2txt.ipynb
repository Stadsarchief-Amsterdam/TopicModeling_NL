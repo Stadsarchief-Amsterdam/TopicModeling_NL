{
 "cells": [
  {
   "cell_type": "markdown",
   "metadata": {},
   "source": [
    "### 1. Docx naar txt \n",
    "\n",
    "Het doel van dit script is om de inhoud van docx-bestanden (word-bestanden) te kopïeren naar txt-bestanden met behulp van de docx2txt tool gemaakt door Ankush Shah. LET OP: Dit script werkt niet op (oudere) word-bestanden eindigend op .doc. De tool kan via de prompt geïnstalleerd worden met het onderstaande commando:\n",
    "\n",
    "` pip install docx2txt\n",
    "`\n",
    "\n",
    "Documentatie docx2txt: \n",
    "- https://pypi.org/project/docx2txt/\n",
    "- https://github.com/ankushshah89/python-docx2txt"
   ]
  },
  {
   "cell_type": "markdown",
   "metadata": {},
   "source": [
    "#### Stap 1: docx-bestanden uit meerdere mappen verzamelen in aparte map (optioneel)\n",
    "\n",
    "Het onderstaande celblokje maakt het mogelijk om docx-bestanden binnen een hoofdmap en meerdere submappen te vinden en te verplaatsen naar een andere map. Met behulp van de glob module kunnen objectnamen worden opgehaald op basis van een bepaald patroon, in dit geval bestanden die eindigen met .docx binnen de hoofdmap en submappen. Met behulp van de shutil module worden deze bestanden gekopieerd naar een andere map. Zorg ervoor dat er eerst een nieuwe map is aangemaakt voor de gekopieerde docx-bestanden. Mocht je al een map hebben met alle docx-bestanden, kan je deze stap overslaan en verder gaan met stap 2.\n",
    "\n",
    "Documentatie:\n",
    "\n",
    "- glob documentatie https://docs.python.org/3/library/glob.html (LET OP: glob haalt geen padnamen op van bestanden uit gezipte mappen)\n",
    "- shutil documentatie https://docs.python.org/3/library/shutil.html\n",
    "\n",
    "LET OP: de opmaak bij het invullen en kopiëren van het pad:\n",
    "\n",
    "- fout: 'C:\\Users\\User\\Documents\\Voorbeeld\\'\n",
    "- goed: 'C:/Users/User/Documents/Voorbeeld/'"
   ]
  },
  {
   "cell_type": "code",
   "execution_count": null,
   "metadata": {},
   "outputs": [],
   "source": [
    "import glob\n",
    "from glob import glob\n",
    "import os\n",
    "import shutil\n",
    "\n",
    "path = '' + '/'     #VUL IN: plaats tussen de eerste aanhalingstekens het pad naar de map waar je bestanden staan\n",
    "\n",
    "docx = glob(os.path.join(path, '**/*.docx'), recursive = True)  \n",
    "             \n",
    "dst_folder = '' + '/' #VUL IN: plaats tussen de eerste aanhalingstekens het pad naar de map waar de docx bestanden naar verplaatst mogen worden\n",
    "                        \n",
    "for file in docx:\n",
    "    file_name = os.path.basename(file)\n",
    "    shutil.copy(file, dst_folder + file_name)\n",
    "    print('Gekopieerd naar:', file) #hiermee wordt een lijstje geprint met alle gekopieerde docx-bestanden"
   ]
  },
  {
   "cell_type": "markdown",
   "metadata": {},
   "source": [
    "#### Stap 2: docx2txt toepassen op de map met docx-bestanden. \n",
    "\n",
    "In het onderstaande celblokje wordt de docx2txt tool toegepast op de map met alle gekopieerde docx-bestanden. Om de code te laten werken, moet eerst het pad naar de map worden ingevuld. Daarna wordt voor elk docx-bestand een txt-bestand gemaakt en opgeslagen in dezelfde map.\n",
    "\n",
    "Let op de opmaak bij het invullen en kopiëren van het pad: \n",
    "\n",
    "- fout: 'C:\\Users\\User\\Documents\\Voorbeeld\\'\n",
    "- goed: 'C:/Users/User/Documents/Voorbeeld/'"
   ]
  },
  {
   "cell_type": "code",
   "execution_count": null,
   "metadata": {
    "tags": []
   },
   "outputs": [],
   "source": [
    "import os\n",
    "import docx2txt\n",
    "\n",
    "os.chdir(dst_folder) \n",
    "\n",
    "docxs = [] #hier maken we een, voor python te begrijpen, lijst met alle docx-bestandsnamen\n",
    "\n",
    "for docx in os.listdir(dst_folder):\n",
    "    if docx.endswith('.docx'):\n",
    "        docxs.append(docx)\n",
    "    \n",
    "    for i in range(len(docxs)): #hier kopiëren we de tekst uit elk docx-bestand naar een txt-bestand\n",
    "        outfile = f\"{docx.title()}.txt\" \n",
    "        f = open(outfile, \"a\")\n",
    "        text = docx2txt.process(docxs[i]) \n",
    "        f.write(text)\n",
    "        f.close()\n"
   ]
  },
  {
   "cell_type": "markdown",
   "metadata": {},
   "source": [
    "#### Einde\n",
    "\n",
    "Als het goed is, staat in de map nu voor ieder docx-bestand ook een txt-bestand. \n",
    "\n",
    "- Ga verder met het script *Pdf naar txt* als er ook pdf-bestanden in je archief zitten.\n",
    "- Ga verder met het script *Corpus samenstellen* om een corpus samen te stellen met docx- en/of pdf-bestanden"
   ]
  }
 ],
 "metadata": {
  "kernelspec": {
   "display_name": "Python 3",
   "language": "python",
   "name": "python3"
  },
  "language_info": {
   "codemirror_mode": {
    "name": "ipython",
    "version": 3
   },
   "file_extension": ".py",
   "mimetype": "text/x-python",
   "name": "python",
   "nbconvert_exporter": "python",
   "pygments_lexer": "ipython3",
   "version": "3.9.1"
  }
 },
 "nbformat": 4,
 "nbformat_minor": 5
}
