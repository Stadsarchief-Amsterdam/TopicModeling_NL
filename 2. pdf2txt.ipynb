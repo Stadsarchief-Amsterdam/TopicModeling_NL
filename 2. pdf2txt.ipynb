{
 "cells": [
  {
   "cell_type": "markdown",
   "metadata": {},
   "source": [
    "### 2. Pdf naar txt"
   ]
  },
  {
   "cell_type": "markdown",
   "metadata": {},
   "source": [
    "Het doel van dit script is om de inhoud van pdf-bestanden te kopïeren naar txt-bestanden. Hierbij wordt gebruik gemaakt van Optical Character Recognition (OCR) met behulp van de pytesseract applicatie. Dit script behoeft de volgende installaties, die in de prompt met de onderstaande commandos geïnstalleerd kunnen worden:\n",
    " \n",
    "- `pip install pytesseract `\n",
    "- `pip install Pillow`\n",
    "- `pip install pdf2image`\n",
    "\n",
    "Documentatie:\n",
    "\n",
    "- Pytesseract: https://pypi.org/project/pytesseract/\n",
    "- Pillow: https://pypi.org/project/Pillow/\n",
    "- PDF2Image: https://pypi.org/project/pdf2image/\n",
    "\n",
    "Daarnaast kan ook een Nederlands talenmodel worden gebruikt om de kwaliteit van de OCR te verbeteren: tesseract-ocr-nld. Download de Nederlandse trainingsdata hier https://github.com/tesseract-ocr/tessdata_best en plaats het in C:\\\\Program Files\\\\Tesseract-OCR\\\\tessdata (Windows)\n"
   ]
  },
  {
   "cell_type": "markdown",
   "metadata": {},
   "source": [
    "#### Stap 1: Pdf-bestanden uit meerdere mappen verzamelen in aparte map (optioneel)\n",
    "\n",
    "Het onderstaande celblokje maakt het mogelijk om alle pdf-bestanden binnen een hoofdmap en meerdere submappen te vinden en te verplaatsen naar een andere map. Met behulp van de glob module kunnen objectnamen worden opgehaald op basis van een bepaald patroon, in dit geval bestanden die eindigen met .pdf. De shutil module zorgt ervoor dat deze bestanden gekopieerd worden naar een andere map. Zorg ervoor dat er eerst een nieuwe map is aangemaakt voor de gekopieerde pdf-bestanden. Mocht je al een map hebben met alle pdf-bestanden, kan je deze stap overslaan en verder gaan met stap 2.\n",
    "\n",
    "Documentatie: \n",
    "- glob documentatie https://docs.python.org/3/library/glob.html (let op: glob haalt geen padnamen op van bestanden uit gezipte mappen)\n",
    "- shutil documentatie https://docs.python.org/3/library/shutil.html \n",
    "\n",
    "Let op de opmaak bij het invullen en kopiëren van het pad:\n",
    "\n",
    "- fout: 'C:\\Users\\User\\Documents\\Voorbeeld\\'\n",
    "- goed: 'C:/Users/User/Documents/Voorbeeld/'\n"
   ]
  },
  {
   "cell_type": "code",
   "execution_count": null,
   "metadata": {},
   "outputs": [],
   "source": [
    "import glob\n",
    "from glob import glob\n",
    "import os\n",
    "import shutil\n",
    "\n",
    "path = '' + '/' #VUL IN: plaats tussen de eerste aanhalingstekens het pad naar de map waar je bestanden staan\n",
    "\n",
    "pdf = glob(os.path.join(path, '**/*.pdf'), recursive = True)                                \n",
    "\n",
    "dst_folder = '' + '/' #VUL IN: plaats tusen de eerste aanhalingstekens het pad naar de map waarnaar de pdf-bestanden worden gekopieerd \n",
    "                                            \n",
    "for file in pdf:\n",
    "    file_name = os.path.basename(file)\n",
    "    shutil.copy(file, dst_folder + file_name)\n",
    "    print('Gekopieeerd naar:', file) #lijst geprint met gekopieerde pdf-bestanden"
   ]
  },
  {
   "cell_type": "markdown",
   "metadata": {},
   "source": [
    "#### Stap 2: Pdf-bestanden omzetten naar txt:\n",
    "\n",
    "In het onderstaande celblokje worden de pdf-bestanden met behulp van pytesseract machine leesbaar gemaakt. Pytesseract maakt een pdf-bestand leesbaar door van elk pdf-pagina een afbeelding te maken, de tekst op de afbeelding te lezen, en vervolgens te kopiëren naar een txt-bestand. Afhankelijk van de de lengte en de hoeveelheid van de pdf-bestanden kan het meerdere uren duren voordat alle pdf-bestanden zijn omgezet. \n",
    "\n",
    "Zoals te zien is in het onderstaande celblokje is os.listdir gevoelig voor hoofdletters. Daarom wordt zowel op .pdf als .PDF gezocht. Mocht er een andere spellingsvariant tussen je bestanden zitten, voeg dan de volgende twee lijnen toe aan het celblokje met de andere spellingsvariant:\n",
    "```python\n",
    "elif pdf.endswith('[.PdF]'): #voeg tussen de vierkante haakjes de variant toe en haal de [] weg\n",
    "    index.append(pdf)\n",
    "```\n",
    "\n",
    "Een veelvoorkomende error is TesseractNotFound. Deze error kan eventueel worden opgelost door in het onderstaande celblokje de hashtag (#) weg te halen voor:\n",
    "```python\n",
    "pytesseract.pytesseract.tesseract_cmd = 'C:\\\\Program Files\\\\Tesseract-OCR\\\\tesseract'\n",
    "```\n",
    "Let op de opmaak bij het invullen en kopiëren van het pad:\n",
    "\n",
    "- fout: 'C:\\Users\\User\\Documents\\Voorbeeld\\'\n",
    "- goed: 'C:/Users/User/Documents/Voorbeeld/'"
   ]
  },
  {
   "cell_type": "code",
   "execution_count": null,
   "metadata": {},
   "outputs": [],
   "source": [
    "from PIL import Image\n",
    "import pytesseract\n",
    "import sys\n",
    "from pdf2image import convert_from_path\n",
    "import os\n",
    "import glob\n",
    "\n",
    "#pytesseract.pytesseract.tesseract_cmd = r'C:/Program Files/Tesseract-OCR/tesseract' #VUL IN: plaats tussen de aanhalingstekens het pad naar het executable bestand van tesseract. Voorbeeld: C:/Program Files/Tesseract-OCR/tesseract\n",
    "\n",
    "os.chdir(dst_folder)  \n",
    "                                                                             \n",
    "pdfs = [] \n",
    "\n",
    "for pdf in os.listdir(dst_folder):\n",
    "    if pdf.endswith('.pdf'):  \n",
    "        pdfs.append(pdf)\n",
    "    elif pdf.endswith('.PDF'):\n",
    "        pdfs.append(pdf)\n",
    "\n",
    "for pdf in pdfs:\n",
    "    pages = convert_from_path(pdf, 500) #500 staat voor dots per inch (dpi), waarschijnlijk is 300 ook voldoende. \n",
    "                                        #300 dpi kan het script wellicht ook sneller laten draaien\n",
    "    \n",
    "    image_counter = 1\n",
    "    \n",
    "    for page in pages:\n",
    "        filename = f\"{pdf.title()}\"+str(image_counter)+\".jpg\" \n",
    "        page.save(filename, 'JPEG')\n",
    "        image_counter = image_counter + 1\n",
    "        \n",
    "        filelimit = image_counter-1\n",
    "        \n",
    "        outfile = f\"{pdf.title()}.txt\" \n",
    "        \n",
    "        f = open(outfile, \"a\")\n",
    "        \n",
    "    for i in range(1, filelimit + 1):\n",
    "            filename = f\"{pdf.title()}\"+str(i)+\".jpg\"\n",
    "            text = str(((pytesseract.image_to_string(Image.open(filename), lang='nld'))))  \n",
    "            text = text.replace('-\\n', '')    \n",
    "            f.write(text)\n",
    "    f.close()"
   ]
  },
  {
   "cell_type": "markdown",
   "metadata": {},
   "source": [
    "#### Stap 3: Afbeeldingen verwijderen uit map\n",
    "\n",
    "Voor elke pdf-pagina is een afbeelding (.jpg) gemaakt. Deze hoeven niet bewaard te worden voor de rest van de Topic Modeling scripts en kunnen met het onderstaande celblokje worden verwijderd uit de map met pdf-bestanden."
   ]
  },
  {
   "cell_type": "code",
   "execution_count": null,
   "metadata": {},
   "outputs": [],
   "source": [
    "#verwijderen van alle .jpg bestanden uit de map met pdfs: \n",
    "import glob\n",
    "from glob import glob\n",
    "\n",
    "fileList = glob(os.path.join(dst_folder, '*.jpg'))   \n",
    "\n",
    "for filePath in fileList:                           \n",
    "    try:\n",
    "        os.remove(filePath)\n",
    "    except OSError:\n",
    "        print(\"Error tijdens het verwijderen van de bestanden\")"
   ]
  },
  {
   "cell_type": "markdown",
   "metadata": {},
   "source": [
    "#### Einde\n",
    "\n",
    "Als het goed is, staat nu voor ieder pdf-bestand in de map ook een txt-bestand.\n",
    "\n",
    "- Ga verder met het script *Docx naar txt* als er ook docx-bestanden in je archief zitten.\n",
    "- Ga verder met het script *Corpus samenstellen* om een corpus samen te stellen met docx- en/of pdf-bestanden"
   ]
  }
 ],
 "metadata": {
  "kernelspec": {
   "display_name": "Python 3",
   "language": "python",
   "name": "python3"
  },
  "language_info": {
   "codemirror_mode": {
    "name": "ipython",
    "version": 3
   },
   "file_extension": ".py",
   "mimetype": "text/x-python",
   "name": "python",
   "nbconvert_exporter": "python",
   "pygments_lexer": "ipython3",
   "version": "3.9.1"
  }
 },
 "nbformat": 4,
 "nbformat_minor": 5
}
